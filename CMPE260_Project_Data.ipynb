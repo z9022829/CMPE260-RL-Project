{
 "cells": [
  {
   "cell_type": "code",
   "execution_count": 19,
   "id": "ca71d88e",
   "metadata": {},
   "outputs": [],
   "source": [
    "import itertools\n",
    "import numpy as np\n",
    "import scipy.stats as stats\n",
    "import matplotlib.pyplot as plt\n",
    "import sys\n",
    "import copy\n",
    "import random\n",
    "import math\n",
    "import pandas as pd\n",
    "import numpy as np\n",
    "import sklearn \n",
    "from sklearn.metrics.pairwise import haversine_distances\n",
    "from math import radians"
   ]
  },
  {
   "cell_type": "code",
   "execution_count": 20,
   "id": "fbc135bb",
   "metadata": {},
   "outputs": [],
   "source": [
    "df = pd.read_csv(\"prices_en.csv\")"
   ]
  },
  {
   "cell_type": "code",
   "execution_count": 21,
   "id": "1112b341",
   "metadata": {},
   "outputs": [
    {
     "data": {
      "text/html": [
       "<div>\n",
       "<style scoped>\n",
       "    .dataframe tbody tr th:only-of-type {\n",
       "        vertical-align: middle;\n",
       "    }\n",
       "\n",
       "    .dataframe tbody tr th {\n",
       "        vertical-align: top;\n",
       "    }\n",
       "\n",
       "    .dataframe thead th {\n",
       "        text-align: right;\n",
       "    }\n",
       "</style>\n",
       "<table border=\"1\" class=\"dataframe\">\n",
       "  <thead>\n",
       "    <tr style=\"text-align: right;\">\n",
       "      <th></th>\n",
       "      <th>date</th>\n",
       "      <th>product</th>\n",
       "      <th>market</th>\n",
       "      <th>size</th>\n",
       "      <th>price</th>\n",
       "    </tr>\n",
       "  </thead>\n",
       "  <tbody>\n",
       "    <tr>\n",
       "      <th>0</th>\n",
       "      <td>2019-01-02</td>\n",
       "      <td>Aleika High Grade Flour</td>\n",
       "      <td>Bars</td>\n",
       "      <td>kg</td>\n",
       "      <td>NaN</td>\n",
       "    </tr>\n",
       "    <tr>\n",
       "      <th>1</th>\n",
       "      <td>2019-01-02</td>\n",
       "      <td>Aleika High Grade Flour</td>\n",
       "      <td>Bayanzurkh</td>\n",
       "      <td>kg</td>\n",
       "      <td>NaN</td>\n",
       "    </tr>\n",
       "    <tr>\n",
       "      <th>2</th>\n",
       "      <td>2019-01-02</td>\n",
       "      <td>Aleika High Grade Flour</td>\n",
       "      <td>Bumbugur</td>\n",
       "      <td>kg</td>\n",
       "      <td>NaN</td>\n",
       "    </tr>\n",
       "    <tr>\n",
       "      <th>3</th>\n",
       "      <td>2019-01-02</td>\n",
       "      <td>Aleika High Grade Flour</td>\n",
       "      <td>Emart</td>\n",
       "      <td>kg</td>\n",
       "      <td>NaN</td>\n",
       "    </tr>\n",
       "    <tr>\n",
       "      <th>4</th>\n",
       "      <td>2019-01-02</td>\n",
       "      <td>Aleika High Grade Flour</td>\n",
       "      <td>Kharkhorin</td>\n",
       "      <td>kg</td>\n",
       "      <td>NaN</td>\n",
       "    </tr>\n",
       "  </tbody>\n",
       "</table>\n",
       "</div>"
      ],
      "text/plain": [
       "         date                  product      market size  price\n",
       "0  2019-01-02  Aleika High Grade Flour        Bars   kg    NaN\n",
       "1  2019-01-02  Aleika High Grade Flour  Bayanzurkh   kg    NaN\n",
       "2  2019-01-02  Aleika High Grade Flour    Bumbugur   kg    NaN\n",
       "3  2019-01-02  Aleika High Grade Flour       Emart   kg    NaN\n",
       "4  2019-01-02  Aleika High Grade Flour  Kharkhorin   kg    NaN"
      ]
     },
     "execution_count": 21,
     "metadata": {},
     "output_type": "execute_result"
    }
   ],
   "source": [
    "df.head()"
   ]
  },
  {
   "cell_type": "code",
   "execution_count": 22,
   "id": "5e3f3e27",
   "metadata": {},
   "outputs": [
    {
     "data": {
      "text/plain": [
       "array(['Aleika High Grade Flour', 'Altan Taria Flour, First Grade',\n",
       "       'Altan Taria Flour, High Grade',\n",
       "       'Altan Taria Packaged Flour, 1st Grade',\n",
       "       'Altan Taria Packaged Flour, 2nd Grade',\n",
       "       'Altan Taria Packaged Flour, High Grade',\n",
       "       'Altan Taria Packaged Flour, Top Grade', 'Apple, Fuji',\n",
       "       'Atar Brand Bread', 'Beef Boneless', 'Beef w/Bones',\n",
       "       'Beet, Mongolian', 'Brown Bread', 'Butter, Suu LTD',\n",
       "       'Cabbage, Mongolian', 'Carrot, Mongolian', 'Egg, Russian',\n",
       "       'Goat Meat w/Bones', 'Gree Tea, Georgia', 'Horse Meat w/Bones',\n",
       "       'Milk, Bulk', 'Mutton Boneless', 'Mutton w/Bones', 'Onion, China',\n",
       "       'Potato, Mongolian', 'Round Bread, Czech Style', 'Sugar',\n",
       "       'Suu Brand Milk, 0.5l', 'Suu Brand Milk, 1l', 'Vegatable Oil',\n",
       "       'White Rice', 'Yellow Rice', 'Yogurt',\n",
       "       'Reserve meat, beef w/bones', 'Reserve meat, goat w/bones',\n",
       "       'Reserve meat, mutton w/bones'], dtype=object)"
      ]
     },
     "execution_count": 22,
     "metadata": {},
     "output_type": "execute_result"
    }
   ],
   "source": [
    "df['product'].unique()"
   ]
  },
  {
   "cell_type": "code",
   "execution_count": 23,
   "id": "94293a12",
   "metadata": {},
   "outputs": [
    {
     "name": "stdout",
     "output_type": "stream",
     "text": [
      "36\n"
     ]
    }
   ],
   "source": [
    "print(len(df['product'].unique()))"
   ]
  },
  {
   "cell_type": "code",
   "execution_count": 24,
   "id": "892ac958",
   "metadata": {},
   "outputs": [
    {
     "data": {
      "text/plain": [
       "array(['Bars', 'Bayanzurkh', 'Bumbugur', 'Emart', 'Kharkhorin',\n",
       "       'Khuchit Shonkhor', 'Max/M Mart', 'Mercury/Ikh Nayad', 'Nomin',\n",
       "       'Orgil', 'Sansar', 'Saruul', 'Tavan Erdene'], dtype=object)"
      ]
     },
     "execution_count": 24,
     "metadata": {},
     "output_type": "execute_result"
    }
   ],
   "source": [
    "df['market'].unique()"
   ]
  },
  {
   "cell_type": "code",
   "execution_count": 25,
   "id": "f501dc08",
   "metadata": {},
   "outputs": [
    {
     "name": "stdout",
     "output_type": "stream",
     "text": [
      "13\n"
     ]
    }
   ],
   "source": [
    "print(len(df['market'].unique()))"
   ]
  },
  {
   "cell_type": "code",
   "execution_count": 26,
   "id": "e399d63f",
   "metadata": {},
   "outputs": [
    {
     "data": {
      "text/html": [
       "<div>\n",
       "<style scoped>\n",
       "    .dataframe tbody tr th:only-of-type {\n",
       "        vertical-align: middle;\n",
       "    }\n",
       "\n",
       "    .dataframe tbody tr th {\n",
       "        vertical-align: top;\n",
       "    }\n",
       "\n",
       "    .dataframe thead th {\n",
       "        text-align: right;\n",
       "    }\n",
       "</style>\n",
       "<table border=\"1\" class=\"dataframe\">\n",
       "  <thead>\n",
       "    <tr style=\"text-align: right;\">\n",
       "      <th></th>\n",
       "      <th>date</th>\n",
       "      <th>product</th>\n",
       "      <th>market</th>\n",
       "      <th>size</th>\n",
       "      <th>price</th>\n",
       "    </tr>\n",
       "  </thead>\n",
       "  <tbody>\n",
       "    <tr>\n",
       "      <th>13</th>\n",
       "      <td>2019-01-02</td>\n",
       "      <td>Altan Taria Flour, First Grade</td>\n",
       "      <td>Bars</td>\n",
       "      <td>kg</td>\n",
       "      <td>950.0</td>\n",
       "    </tr>\n",
       "    <tr>\n",
       "      <th>14</th>\n",
       "      <td>2019-01-02</td>\n",
       "      <td>Altan Taria Flour, First Grade</td>\n",
       "      <td>Bayanzurkh</td>\n",
       "      <td>kg</td>\n",
       "      <td>1100.0</td>\n",
       "    </tr>\n",
       "    <tr>\n",
       "      <th>15</th>\n",
       "      <td>2019-01-02</td>\n",
       "      <td>Altan Taria Flour, First Grade</td>\n",
       "      <td>Bumbugur</td>\n",
       "      <td>kg</td>\n",
       "      <td>1000.0</td>\n",
       "    </tr>\n",
       "    <tr>\n",
       "      <th>16</th>\n",
       "      <td>2019-01-02</td>\n",
       "      <td>Altan Taria Flour, First Grade</td>\n",
       "      <td>Emart</td>\n",
       "      <td>kg</td>\n",
       "      <td>1080.0</td>\n",
       "    </tr>\n",
       "    <tr>\n",
       "      <th>17</th>\n",
       "      <td>2019-01-02</td>\n",
       "      <td>Altan Taria Flour, First Grade</td>\n",
       "      <td>Kharkhorin</td>\n",
       "      <td>kg</td>\n",
       "      <td>1100.0</td>\n",
       "    </tr>\n",
       "    <tr>\n",
       "      <th>...</th>\n",
       "      <td>...</td>\n",
       "      <td>...</td>\n",
       "      <td>...</td>\n",
       "      <td>...</td>\n",
       "      <td>...</td>\n",
       "    </tr>\n",
       "    <tr>\n",
       "      <th>61927</th>\n",
       "      <td>2021-12-08</td>\n",
       "      <td>Yogurt</td>\n",
       "      <td>Nomin</td>\n",
       "      <td>liter</td>\n",
       "      <td>3099.0</td>\n",
       "    </tr>\n",
       "    <tr>\n",
       "      <th>61928</th>\n",
       "      <td>2021-12-08</td>\n",
       "      <td>Yogurt</td>\n",
       "      <td>Orgil</td>\n",
       "      <td>liter</td>\n",
       "      <td>3100.0</td>\n",
       "    </tr>\n",
       "    <tr>\n",
       "      <th>61929</th>\n",
       "      <td>2021-12-08</td>\n",
       "      <td>Yogurt</td>\n",
       "      <td>Sansar</td>\n",
       "      <td>liter</td>\n",
       "      <td>3100.0</td>\n",
       "    </tr>\n",
       "    <tr>\n",
       "      <th>61930</th>\n",
       "      <td>2021-12-08</td>\n",
       "      <td>Yogurt</td>\n",
       "      <td>Saruul</td>\n",
       "      <td>liter</td>\n",
       "      <td>2900.0</td>\n",
       "    </tr>\n",
       "    <tr>\n",
       "      <th>61931</th>\n",
       "      <td>2021-12-08</td>\n",
       "      <td>Yogurt</td>\n",
       "      <td>Tavan Erdene</td>\n",
       "      <td>liter</td>\n",
       "      <td>3000.0</td>\n",
       "    </tr>\n",
       "  </tbody>\n",
       "</table>\n",
       "<p>46705 rows × 5 columns</p>\n",
       "</div>"
      ],
      "text/plain": [
       "             date                         product        market   size   price\n",
       "13     2019-01-02  Altan Taria Flour, First Grade          Bars     kg   950.0\n",
       "14     2019-01-02  Altan Taria Flour, First Grade    Bayanzurkh     kg  1100.0\n",
       "15     2019-01-02  Altan Taria Flour, First Grade      Bumbugur     kg  1000.0\n",
       "16     2019-01-02  Altan Taria Flour, First Grade         Emart     kg  1080.0\n",
       "17     2019-01-02  Altan Taria Flour, First Grade    Kharkhorin     kg  1100.0\n",
       "...           ...                             ...           ...    ...     ...\n",
       "61927  2021-12-08                          Yogurt         Nomin  liter  3099.0\n",
       "61928  2021-12-08                          Yogurt         Orgil  liter  3100.0\n",
       "61929  2021-12-08                          Yogurt        Sansar  liter  3100.0\n",
       "61930  2021-12-08                          Yogurt        Saruul  liter  2900.0\n",
       "61931  2021-12-08                          Yogurt  Tavan Erdene  liter  3000.0\n",
       "\n",
       "[46705 rows x 5 columns]"
      ]
     },
     "execution_count": 26,
     "metadata": {},
     "output_type": "execute_result"
    }
   ],
   "source": [
    "df = df.dropna()\n",
    "df"
   ]
  },
  {
   "cell_type": "code",
   "execution_count": 27,
   "id": "48671b2e",
   "metadata": {
    "scrolled": true
   },
   "outputs": [
    {
     "data": {
      "text/html": [
       "<div>\n",
       "<style scoped>\n",
       "    .dataframe tbody tr th:only-of-type {\n",
       "        vertical-align: middle;\n",
       "    }\n",
       "\n",
       "    .dataframe tbody tr th {\n",
       "        vertical-align: top;\n",
       "    }\n",
       "\n",
       "    .dataframe thead th {\n",
       "        text-align: right;\n",
       "    }\n",
       "</style>\n",
       "<table border=\"1\" class=\"dataframe\">\n",
       "  <thead>\n",
       "    <tr style=\"text-align: right;\">\n",
       "      <th></th>\n",
       "      <th>date</th>\n",
       "      <th>product</th>\n",
       "      <th>market</th>\n",
       "      <th>size</th>\n",
       "      <th>price</th>\n",
       "    </tr>\n",
       "  </thead>\n",
       "  <tbody>\n",
       "    <tr>\n",
       "      <th>0</th>\n",
       "      <td>2019-01-02</td>\n",
       "      <td>Altan Taria Flour, First Grade</td>\n",
       "      <td>Bars</td>\n",
       "      <td>kg</td>\n",
       "      <td>950.0</td>\n",
       "    </tr>\n",
       "    <tr>\n",
       "      <th>1</th>\n",
       "      <td>2019-01-02</td>\n",
       "      <td>Altan Taria Flour, First Grade</td>\n",
       "      <td>Bayanzurkh</td>\n",
       "      <td>kg</td>\n",
       "      <td>1100.0</td>\n",
       "    </tr>\n",
       "    <tr>\n",
       "      <th>2</th>\n",
       "      <td>2019-01-02</td>\n",
       "      <td>Altan Taria Flour, First Grade</td>\n",
       "      <td>Bumbugur</td>\n",
       "      <td>kg</td>\n",
       "      <td>1000.0</td>\n",
       "    </tr>\n",
       "    <tr>\n",
       "      <th>3</th>\n",
       "      <td>2019-01-02</td>\n",
       "      <td>Altan Taria Flour, First Grade</td>\n",
       "      <td>Emart</td>\n",
       "      <td>kg</td>\n",
       "      <td>1080.0</td>\n",
       "    </tr>\n",
       "    <tr>\n",
       "      <th>4</th>\n",
       "      <td>2019-01-02</td>\n",
       "      <td>Altan Taria Flour, First Grade</td>\n",
       "      <td>Kharkhorin</td>\n",
       "      <td>kg</td>\n",
       "      <td>1100.0</td>\n",
       "    </tr>\n",
       "    <tr>\n",
       "      <th>...</th>\n",
       "      <td>...</td>\n",
       "      <td>...</td>\n",
       "      <td>...</td>\n",
       "      <td>...</td>\n",
       "      <td>...</td>\n",
       "    </tr>\n",
       "    <tr>\n",
       "      <th>46700</th>\n",
       "      <td>2021-12-08</td>\n",
       "      <td>Yogurt</td>\n",
       "      <td>Nomin</td>\n",
       "      <td>liter</td>\n",
       "      <td>3099.0</td>\n",
       "    </tr>\n",
       "    <tr>\n",
       "      <th>46701</th>\n",
       "      <td>2021-12-08</td>\n",
       "      <td>Yogurt</td>\n",
       "      <td>Orgil</td>\n",
       "      <td>liter</td>\n",
       "      <td>3100.0</td>\n",
       "    </tr>\n",
       "    <tr>\n",
       "      <th>46702</th>\n",
       "      <td>2021-12-08</td>\n",
       "      <td>Yogurt</td>\n",
       "      <td>Sansar</td>\n",
       "      <td>liter</td>\n",
       "      <td>3100.0</td>\n",
       "    </tr>\n",
       "    <tr>\n",
       "      <th>46703</th>\n",
       "      <td>2021-12-08</td>\n",
       "      <td>Yogurt</td>\n",
       "      <td>Saruul</td>\n",
       "      <td>liter</td>\n",
       "      <td>2900.0</td>\n",
       "    </tr>\n",
       "    <tr>\n",
       "      <th>46704</th>\n",
       "      <td>2021-12-08</td>\n",
       "      <td>Yogurt</td>\n",
       "      <td>Tavan Erdene</td>\n",
       "      <td>liter</td>\n",
       "      <td>3000.0</td>\n",
       "    </tr>\n",
       "  </tbody>\n",
       "</table>\n",
       "<p>46705 rows × 5 columns</p>\n",
       "</div>"
      ],
      "text/plain": [
       "             date                         product        market   size   price\n",
       "0      2019-01-02  Altan Taria Flour, First Grade          Bars     kg   950.0\n",
       "1      2019-01-02  Altan Taria Flour, First Grade    Bayanzurkh     kg  1100.0\n",
       "2      2019-01-02  Altan Taria Flour, First Grade      Bumbugur     kg  1000.0\n",
       "3      2019-01-02  Altan Taria Flour, First Grade         Emart     kg  1080.0\n",
       "4      2019-01-02  Altan Taria Flour, First Grade    Kharkhorin     kg  1100.0\n",
       "...           ...                             ...           ...    ...     ...\n",
       "46700  2021-12-08                          Yogurt         Nomin  liter  3099.0\n",
       "46701  2021-12-08                          Yogurt         Orgil  liter  3100.0\n",
       "46702  2021-12-08                          Yogurt        Sansar  liter  3100.0\n",
       "46703  2021-12-08                          Yogurt        Saruul  liter  2900.0\n",
       "46704  2021-12-08                          Yogurt  Tavan Erdene  liter  3000.0\n",
       "\n",
       "[46705 rows x 5 columns]"
      ]
     },
     "execution_count": 27,
     "metadata": {},
     "output_type": "execute_result"
    }
   ],
   "source": [
    "df = df.reset_index(drop=True)\n",
    "df"
   ]
  },
  {
   "cell_type": "code",
   "execution_count": null,
   "id": "dd15d6c3",
   "metadata": {
    "scrolled": false
   },
   "outputs": [],
   "source": []
  },
  {
   "cell_type": "code",
   "execution_count": 28,
   "id": "c0d5dddb",
   "metadata": {},
   "outputs": [
    {
     "data": {
      "text/plain": [
       "'\\nBars = [47.90896101359238, 106.89173405469197]\\nBayanzurkh = [47.92213103358118, 106.98071503989783]\\nBumbugur = [47.92009994509366, 106.90022693283476]\\nEmart = [47.90035180689655, 106.9288296144467]\\nKharkhorin = [47.911709231673115, 106.83747109910689]\\nKhuchit Shonkhor = [47.9437799851189, 106.90213249370248]\\nMax/M Mart = [47.90546073214754, 106.89718521236082]\\nMercury/Ikh Nayad = [47.907237722589414, 106.9286452395914]\\nNomin = [47.90528789656089, 106.94281923697814]\\nOrgil = [47.89590227096271, 106.90806628299865]\\nSansar = [47.913040829689905, 106.94364249921205]\\nSaruul = [47.909681238220735, 106.901913341121]\\nTavan Erdene = [47.922234503547706, 106.88120267003602]\\n'"
      ]
     },
     "execution_count": 28,
     "metadata": {},
     "output_type": "execute_result"
    }
   ],
   "source": [
    "#Geo locations of the markets \n",
    "\"\"\"\n",
    "Bars = [47.90896101359238, 106.89173405469197]\n",
    "Bayanzurkh = [47.92213103358118, 106.98071503989783]\n",
    "Bumbugur = [47.92009994509366, 106.90022693283476]\n",
    "Emart = [47.90035180689655, 106.9288296144467]\n",
    "Kharkhorin = [47.911709231673115, 106.83747109910689]\n",
    "Khuchit Shonkhor = [47.9437799851189, 106.90213249370248]\n",
    "Max/M Mart = [47.90546073214754, 106.89718521236082]\n",
    "Mercury/Ikh Nayad = [47.907237722589414, 106.9286452395914]\n",
    "Nomin = [47.90528789656089, 106.94281923697814]\n",
    "Orgil = [47.89590227096271, 106.90806628299865]\n",
    "Sansar = [47.913040829689905, 106.94364249921205]\n",
    "Saruul = [47.909681238220735, 106.901913341121]\n",
    "Tavan Erdene = [47.922234503547706, 106.88120267003602]\n",
    "\"\"\"\n"
   ]
  },
  {
   "cell_type": "code",
   "execution_count": 29,
   "id": "939e6c76",
   "metadata": {},
   "outputs": [],
   "source": [
    "#https://scikit-learn.org/stable/modules/generated/sklearn.metrics.pairwise.haversine_distances.html\n",
    "\n",
    "#formula to create the distance matrix; units in km "
   ]
  }
 ],
 "metadata": {
  "kernelspec": {
   "display_name": "Python 3 (ipykernel)",
   "language": "python",
   "name": "python3"
  },
  "language_info": {
   "codemirror_mode": {
    "name": "ipython",
    "version": 3
   },
   "file_extension": ".py",
   "mimetype": "text/x-python",
   "name": "python",
   "nbconvert_exporter": "python",
   "pygments_lexer": "ipython3",
   "version": "3.11.4"
  }
 },
 "nbformat": 4,
 "nbformat_minor": 5
}
